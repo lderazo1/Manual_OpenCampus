{
 "cells": [
  {
   "cell_type": "markdown",
   "metadata": {},
   "source": [
    "<img src=\"https://open.edx.org/wp-content/uploads/2019/01/open-edx-logo-with-reg.png\" width=\"270\" height=\"100\" align=\"left\"/>"
   ]
  },
  {
   "cell_type": "markdown",
   "metadata": {},
   "source": [
    "---"
   ]
  },
  {
   "cell_type": "markdown",
   "metadata": {},
   "source": [
    "<h1 align=\"center\"> Ejecución</h1> <br>"
   ]
  },
  {
   "cell_type": "markdown",
   "metadata": {},
   "source": [
    "<blockquote><i/><b>Importante: </b>Es obligatorio contar con el repositorio clonado y entorno virtual activo</blockquote> "
   ]
  },
  {
   "cell_type": "markdown",
   "metadata": {},
   "source": [
    "<img src=\"https://i.imgur.com/o9iQdBu.png\" align=\"left\"/>"
   ]
  },
  {
   "cell_type": "markdown",
   "metadata": {},
   "source": [
    "<div style=\"text-align: justify\">Para la siguiente demostración, vamos a transformar un curso obtenido desde la plataforma OpenEDX  en un sitio web estático mediante el uso del script perteneciente al proyecto Open-Campus-Course-HTML.</div>"
   ]
  },
  {
   "cell_type": "markdown",
   "metadata": {},
   "source": [
    "---"
   ]
  },
  {
   "cell_type": "markdown",
   "metadata": {},
   "source": [
    "<h2> 1. Instalación librerías necesarias para la ejecución Script</h2>"
   ]
  },
  {
   "cell_type": "markdown",
   "metadata": {},
   "source": [
    "<img src=\"https://i.imgur.com/1Ozdz0v.png\" align=\"left\"/>"
   ]
  },
  {
   "cell_type": "markdown",
   "metadata": {},
   "source": [
    "<div style=\"text-align: justify\"> <code>01.</code> Accedemos al directorio clonado, en este caso llamado <kbd>Open-Campus-Course-HTML</kbd> de la siguiente forma: </div>"
   ]
  },
  {
   "cell_type": "markdown",
   "metadata": {},
   "source": [
    "<blockquote><i/><div style=\"text-align: justify\">En la ruta, <kbd>your_username</kbd> hace referencia al nombre de usuario de Ubuntu, reemplazar por su nombre de usuario.<br>En caso de desarrollar en el sistema operativo WIndows omitir <kbd>your_username/</kbd></div></blockquote>"
   ]
  },
  {
   "cell_type": "code",
   "execution_count": null,
   "metadata": {},
   "outputs": [],
   "source": [
    "cd your_username/Open-Campus-Course-HTML"
   ]
  },
  {
   "cell_type": "markdown",
   "metadata": {},
   "source": [
    "<blockquote><i/><b>Resultado</b><br><img src=\"https://i.imgur.com/Hdgpwvi.png\" align=\"left\"/></blockquote>"
   ]
  },
  {
   "cell_type": "markdown",
   "metadata": {},
   "source": [
    "<div style=\"text-align: justify\"> <code>02.</code> Invocamos al archivo Requerimientos: </div>"
   ]
  },
  {
   "cell_type": "code",
   "execution_count": null,
   "metadata": {},
   "outputs": [],
   "source": [
    "pip install -r requerimientos.txt"
   ]
  },
  {
   "cell_type": "markdown",
   "metadata": {},
   "source": [
    "---"
   ]
  },
  {
   "cell_type": "markdown",
   "metadata": {},
   "source": [
    "<h2> 2. Obtención Curso e instalación</h2>"
   ]
  },
  {
   "cell_type": "markdown",
   "metadata": {},
   "source": [
    "<blockquote><i/><b>Fuente: </b>La fuente del presente curso es otorgada por el supervisor del proyecto, en caso de usted contar con un curso tipo OpenEDX seguir el siguiente proceso.</blockquote> "
   ]
  },
  {
   "cell_type": "markdown",
   "metadata": {},
   "source": [
    "<img src=\"https://i.imgur.com/1Ozdz0v.png\" align=\"left\"/>"
   ]
  },
  {
   "cell_type": "markdown",
   "metadata": {},
   "source": [
    "<div style=\"text-align: justify\"> <code>01.</code> Para ejecutar el script,lo realizamos mediante la siguiente linea de comandos </div>"
   ]
  },
  {
   "cell_type": "code",
   "execution_count": null,
   "metadata": {},
   "outputs": [],
   "source": [
    "source setup.sh"
   ]
  },
  {
   "cell_type": "markdown",
   "metadata": {},
   "source": [
    "<div style=\"text-align: justify\"> <code>02.</code> Generalmente el formato estándar de documentos de Curso es un archivo comprimido extensión <kbd>tar.gz</kbd>. Su descompresión es sencilla, procedemos a dar clic derecho sobre el archivo y descomprimir</div>"
   ]
  },
  {
   "cell_type": "markdown",
   "metadata": {},
   "source": [
    "<blockquote><i/><b>Resultado</b><br><img src=\"https://i.imgur.com/kxlVwVy.png\" align=\"left\"/></blockquote>"
   ]
  },
  {
   "cell_type": "markdown",
   "metadata": {},
   "source": [
    "<div style=\"text-align: justify\"><code>03.</code> Accedemos al archivo descompreso y a su directorio.</div>"
   ]
  },
  {
   "cell_type": "code",
   "execution_count": null,
   "metadata": {},
   "outputs": [],
   "source": [
    "cd course"
   ]
  },
  {
   "cell_type": "markdown",
   "metadata": {},
   "source": [
    "<blockquote><i/><b>Resultado</b><br><img src=\"https://i.imgur.com/KITrqj1.png\" align=\"left\"/></blockquote>"
   ]
  },
  {
   "cell_type": "markdown",
   "metadata": {},
   "source": [
    "<blockquote><i/><div style=\"text-align: justify\">En la ruta, <kbd>your_username</kbd> hace referencia al nombre de usuario de Ubuntu, reemplazar por su nombre de usuario.<br>En caso de desarrollar en el sistema operativo WIndows omitir <kbd>your_username/</kbd></div></blockquote>"
   ]
  },
  {
   "cell_type": "markdown",
   "metadata": {},
   "source": [
    "<div style=\"text-align: justify\"> <code>04.</code> Ejecutamos el archivo Demo-Convert con el siguiente comando </div>"
   ]
  },
  {
   "cell_type": "code",
   "execution_count": null,
   "metadata": {},
   "outputs": [],
   "source": [
    "Demo-Convert.py"
   ]
  },
  {
   "cell_type": "markdown",
   "metadata": {},
   "source": [
    "---"
   ]
  },
  {
   "cell_type": "markdown",
   "metadata": {},
   "source": [
    "<h2> 3. Incrutar Logo</h2>"
   ]
  },
  {
   "cell_type": "markdown",
   "metadata": {},
   "source": [
    "<blockquote><i/><b>Importante: </b>El script automáticamente genera la carpeta en donde será alojado el logotipo del Curso, no es necesario crear el directorio.</blockquote> "
   ]
  },
  {
   "cell_type": "markdown",
   "metadata": {},
   "source": [
    "<div style=\"text-align: justify\"> <code>01.</code> Renombrar imagen a colocar bajo el siguiente formato</div>"
   ]
  },
  {
   "cell_type": "code",
   "execution_count": null,
   "metadata": {},
   "outputs": [],
   "source": [
    "logo-institucion.jpg"
   ]
  },
  {
   "cell_type": "markdown",
   "metadata": {},
   "source": [
    "<blockquote><i/><b>Resultado</b><br><img src=\"https://i.imgur.com/YXlrJBS.png\" align=\"left\"/></blockquote>"
   ]
  },
  {
   "cell_type": "markdown",
   "metadata": {},
   "source": [
    "<div style=\"text-align: justify\"> <code>01.</code> Ubicamos la imagen en la carpeta llamada <kbd>img-institution/</kbd></div>"
   ]
  },
  {
   "cell_type": "markdown",
   "metadata": {},
   "source": [
    "<blockquote><i/><b>Resultado</b><br><img src=\"https://i.imgur.com/htLcwWN.png\" align=\"left\"/></blockquote>"
   ]
  },
  {
   "cell_type": "markdown",
   "metadata": {},
   "source": [
    "---"
   ]
  }
 ],
 "metadata": {
  "kernelspec": {
   "display_name": "Python 3",
   "language": "python",
   "name": "python3"
  },
  "language_info": {
   "codemirror_mode": {
    "name": "ipython",
    "version": 3
   },
   "file_extension": ".py",
   "mimetype": "text/x-python",
   "name": "python",
   "nbconvert_exporter": "python",
   "pygments_lexer": "ipython3",
   "version": "3.8.2"
  }
 },
 "nbformat": 4,
 "nbformat_minor": 4
}
