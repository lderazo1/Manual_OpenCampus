{
 "cells": [
  {
   "cell_type": "markdown",
   "metadata": {},
   "source": [
    "<img src=\"https://open.edx.org/wp-content/uploads/2019/01/open-edx-logo-with-reg.png\" width=\"300\" height=\"300\" align=\"left\"/>"
   ]
  },
  {
   "cell_type": "markdown",
   "metadata": {},
   "source": [
    "---"
   ]
  },
  {
   "cell_type": "markdown",
   "metadata": {},
   "source": [
    "<h1 align=\"center\"> Tratamiento de Cursos plataforma OpenEDX</h1> <br>"
   ]
  },
  {
   "cell_type": "markdown",
   "metadata": {},
   "source": [
    "<div style=\"text-align: justify\"> OpenEDX es una plataforma que oferta cursos en línea, y que se ponen disponibles, a través de Internet, de forma abierta y libre. Con OpenEDX, educadores y formadores pueden diseñar sus cursos, probar nuevas formas de aprendizaje, establecer retos que permitan hacer analítica de aprendizaje, ofertar a estudiantes de cualquier lugar del mundo. Además, los expertos en tecnología puede construir componentes de aprendizaje y contribuirlos como nuevas características de la plataforma, de manera que apoyen a la creación de soluciones educativas innovadoras que beneficien a profesores, estudiantes y autodidactas de cualquier parte del mundo.<br><br><b>Open-Campus-Course-HTML</b> tiene la finalidad de generar una nueva forma de visualización referente a todos los cursos que presenta la plataforma, lo que se busca mediante el siguiente planteamiento, es la importación de diferentes cantidades de cursos bajo el formato EDX y su posterior conversión a páginas html de tipo estáticas, que pueden ser implementadas en servidores o de tipo offline y bajo la confiabilidad de que no exista pérdida de información.</div>"
   ]
  },
  {
   "cell_type": "markdown",
   "metadata": {},
   "source": [
    "<blockquote><i/>IMAGEN PENDIENTE</blockquote> "
   ]
  },
  {
   "cell_type": "markdown",
   "metadata": {},
   "source": [
    "<h2> Prerequisitos</h2>"
   ]
  },
  {
   "cell_type": "markdown",
   "metadata": {},
   "source": [
    "<img src=\"https://upload.wikimedia.org/wikipedia/commons/thumb/0/0a/Python.svg/1200px-Python.svg.png\" width=\"100\" height=\"100\" align=\"left\"/>"
   ]
  },
  {
   "cell_type": "markdown",
   "metadata": {},
   "source": [
    "<h3><i> Python</h3>"
   ]
  },
  {
   "cell_type": "markdown",
   "metadata": {},
   "source": [
    "<div style=\"text-align: justify\"> Python es un lenguaje de programación potente y fácil de aprender. Posee eficientes estructuras de datos de alto nivel y un enfoque sencillo pero efectivo de la programación orientada a objetos. La sintaxis elegante, los tipos de datos dinámicos y el hecho de ser un lenguaje interpretado hacen de Python un lenguaje ideal para la creación de scripts y el desarrollo rápido de aplicaciones en todo tipo de áreas y plataformas.</div>"
   ]
  },
  {
   "cell_type": "markdown",
   "metadata": {},
   "source": [
    "<h4><i> Enlaces de Instalación</h4>"
   ]
  },
  {
   "cell_type": "markdown",
   "metadata": {},
   "source": [
    "<a href=\"https://www.google.com.ec\">Instalación Sistema Operativo Windows</a>"
   ]
  },
  {
   "cell_type": "markdown",
   "metadata": {},
   "source": [
    "<a href=\"https://www.google.com.ec\">Instalación Sistema Operativo basado en Linux</a>"
   ]
  },
  {
   "cell_type": "markdown",
   "metadata": {},
   "source": [
    "<blockquote><i/><b>Recomendación: </b>No se recomienda la implementación del proyecto en versiones de Python anteriores a la 2.7. En caso de contar con una versión similar, actualice su versión en los enlaces proporcionados.</blockquote> "
   ]
  },
  {
   "cell_type": "markdown",
   "metadata": {},
   "source": [
    "---"
   ]
  },
  {
   "cell_type": "markdown",
   "metadata": {},
   "source": [
    "<img src=\"https://i1.wp.com/unaaldia.hispasec.com/wp-content/uploads/2018/11/python-pip.png?fit=500%2C375&ssl=1\" width=\"150\" height=\"150\" align=\"left\"/>"
   ]
  },
  {
   "cell_type": "markdown",
   "metadata": {},
   "source": [
    "<h3><i> Python Index Package (PIP)</h3>"
   ]
  },
  {
   "cell_type": "markdown",
   "metadata": {},
   "source": [
    "<div style=\"text-align: justify\"> El gestor de paquetes para Python o también llamado PIP (por sus siglas en inglés). Es una herramienta que permite instalar y administrar bibliotecas y dependencias adicionales que no se distribuyen como parte de la biblioteca estándar.</div>"
   ]
  },
  {
   "cell_type": "markdown",
   "metadata": {},
   "source": [
    "<h4><i> Enlaces de Instalación</h4>"
   ]
  },
  {
   "cell_type": "markdown",
   "metadata": {},
   "source": [
    "<a href=\"https://www.google.com.ec\">Instalación Sistema Operativo Windows</a>"
   ]
  },
  {
   "cell_type": "markdown",
   "metadata": {},
   "source": [
    "<a href=\"https://www.google.com.ec\">Instalación Sistema Operativo basado en Linux</a>"
   ]
  },
  {
   "cell_type": "markdown",
   "metadata": {},
   "source": [
    "<blockquote><i/><b>Recomendación: </b>No se recomienda la implementación del proyecto en versiones de Python anteriores a la 2.7. En caso de contar con una versión similar, actualice su versión en los enlaces proporcionados.</blockquote> "
   ]
  },
  {
   "cell_type": "markdown",
   "metadata": {},
   "source": [
    "---"
   ]
  },
  {
   "cell_type": "markdown",
   "metadata": {},
   "source": [
    "<img src=\"https://zaxrosenberg.com/wp-content/uploads/2017/06/python-virtualenv.jpg\" width=\"200\" height=\"200\" align=\"left\"/>"
   ]
  },
  {
   "cell_type": "markdown",
   "metadata": {},
   "source": [
    "<h3><i> Entorno Virtual</h3>"
   ]
  },
  {
   "cell_type": "markdown",
   "metadata": {},
   "source": [
    "<div style=\"text-align: justify\"> Un entorno virtual es una herramienta que ayuda a mantener separadas las dependencias que requieren los diferentes proyectos, creando para ellos entornos virtuales Python aislados. Esta es una de las herramientas más importantes que la mayoría de los desarrolladores de Python utilizan.</div>"
   ]
  },
  {
   "cell_type": "markdown",
   "metadata": {},
   "source": [
    "<h4><i> Enlaces de Instalación</h4>"
   ]
  },
  {
   "cell_type": "markdown",
   "metadata": {},
   "source": [
    "<a href=\"https://www.google.com.ec\">Instalación Sistema Operativo Windows</a>"
   ]
  },
  {
   "cell_type": "markdown",
   "metadata": {},
   "source": [
    "<a href=\"https://www.google.com.ec\">Instalación Sistema Operativo basado en Linux</a>"
   ]
  },
  {
   "cell_type": "markdown",
   "metadata": {},
   "source": [
    "<blockquote><i/><b>Recomendación: </b>Los entornos virtuales deben ser implementados siempre en cualquier proyecto que nos encontremos desarrollando</blockquote> "
   ]
  },
  {
   "cell_type": "markdown",
   "metadata": {},
   "source": [
    "---"
   ]
  }
 ],
 "metadata": {
  "kernelspec": {
   "display_name": "Python 3",
   "language": "python",
   "name": "python3"
  },
  "language_info": {
   "codemirror_mode": {
    "name": "ipython",
    "version": 3
   },
   "file_extension": ".py",
   "mimetype": "text/x-python",
   "name": "python",
   "nbconvert_exporter": "python",
   "pygments_lexer": "ipython3",
   "version": "3.8.2"
  }
 },
 "nbformat": 4,
 "nbformat_minor": 4
}
