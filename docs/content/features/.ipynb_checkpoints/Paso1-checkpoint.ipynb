{
 "cells": [
  {
   "cell_type": "markdown",
   "metadata": {},
   "source": [
    "<img src=\"https://open.edx.org/wp-content/uploads/2019/01/open-edx-logo-with-reg.png\" width=\"300\" height=\"100\" align=\"left\"/>"
   ]
  },
  {
   "cell_type": "markdown",
   "metadata": {},
   "source": [
    "---"
   ]
  },
  {
   "cell_type": "markdown",
   "metadata": {},
   "source": [
    "<h1 align=\"center\"> Implementación de Open-Campus-Course-HTML</h1> <br>"
   ]
  },
  {
   "cell_type": "markdown",
   "metadata": {},
   "source": [
    "<blockquote><i/><b>Importante: </b>Es obligatorio contar con los requerimientos previos expresados en el punto 1 de la presente guía.</blockquote> "
   ]
  },
  {
   "cell_type": "markdown",
   "metadata": {},
   "source": [
    "<blockquote><i/>IMAGEN PENDIENTE</blockquote> "
   ]
  },
  {
   "cell_type": "markdown",
   "metadata": {},
   "source": [
    "<div style=\"text-align: justify\">Para la siguiente demostración, vamos a transformar un curso obtenido desde la plataforma OpenEDX  en un sitio web estático mediante el uso del script perteneciente al proyecto Open-Campus-Course-HTML.</div>"
   ]
  },
  {
   "cell_type": "markdown",
   "metadata": {},
   "source": [
    "---"
   ]
  },
  {
   "cell_type": "markdown",
   "metadata": {},
   "source": [
    "<h2> 1. Creación de Entorno Virtual</h2>"
   ]
  },
  {
   "cell_type": "markdown",
   "metadata": {},
   "source": [
    "---"
   ]
  },
  {
   "cell_type": "markdown",
   "metadata": {},
   "source": [
    "<img src=\"https://www.providencecatholic.org/wp-content/uploads/windowslogo-580x358.jpg\" width=\"100\" height=\"50\" align=\"left\"/>"
   ]
  },
  {
   "cell_type": "markdown",
   "metadata": {},
   "source": [
    "<h3><i> Sistema Operativo Windows</h3>"
   ]
  },
  {
   "cell_type": "markdown",
   "metadata": {},
   "source": [
    "<blockquote><i/>Pendiente</blockquote> "
   ]
  },
  {
   "cell_type": "markdown",
   "metadata": {},
   "source": [
    "<img src=\"https://imageog.flaticon.com/icons/png/512/888/888879.png?size=1200x630f&pad=10,10,10,10&ext=png&bg=FFFFFFFF\" width=\"100\" height=\"50\" align=\"left\"/>"
   ]
  },
  {
   "cell_type": "markdown",
   "metadata": {},
   "source": [
    "<h3><i> Sistema Operativo Ubuntu</h3>"
   ]
  },
  {
   "cell_type": "markdown",
   "metadata": {},
   "source": [
    "<blockquote><i/><b>Acceder al Terminal: </b>Para acceder al terminal de Ubuntu, nos basta con pulsar la siguiente combinación de botones: <kbd>Ctrl + Alt + t</kbd><br><br>Se nos debe desplegar el terminal de Ubuntu, a partir del cual podemos iniciar el tutorial<br><img src=\"https://i.imgur.com/kR7e4Rr.png\" align=\"left\"/></blockquote>"
   ]
  },
  {
   "cell_type": "markdown",
   "metadata": {},
   "source": [
    "<div style=\"text-align: justify\"> <code>01.</code> Generamos el entorno virtual mediante la siguiente linea de comandos.</div>"
   ]
  },
  {
   "cell_type": "markdown",
   "metadata": {},
   "source": [
    "<blockquote><div style=\"text-align: justify\"><i><b>Nota: </b>En el comando, <kbd>EDXCourse</kbd> hace referencia al nombre de nuestro entorno virtual, puede ser modificado por cualquier nombre (opcional)</i></div></blockquote>"
   ]
  },
  {
   "cell_type": "code",
   "execution_count": null,
   "metadata": {},
   "outputs": [],
   "source": [
    "virtualenv EDXCourse python3"
   ]
  },
  {
   "cell_type": "markdown",
   "metadata": {},
   "source": [
    "<blockquote><i/><b>Resultado</b><br><img src=\"https://i.imgur.com/6njJ3cR.png\" align=\"left\"/></blockquote>"
   ]
  },
  {
   "cell_type": "markdown",
   "metadata": {},
   "source": [
    "<div style=\"text-align: justify\"> <code>02.</code> Nuestro entorno ya se encuentra generado, es momento de activarlo, para ello colocamos el siguiente comando en consola</div>"
   ]
  },
  {
   "cell_type": "markdown",
   "metadata": {},
   "source": [
    "<blockquote><i/><div style=\"text-align: justify\">En la ruta, <kbd>your_username</kbd> hace referencia al nombre de usuario de Ubuntu, reemplazar por su nombre de usuario.<br>En caso de haber modificado el nombre de su entorno virtual remmplazar el item <kbd>EDXCourse</kbd> por su nuevo nombre de entorno</div></blockquote>"
   ]
  },
  {
   "cell_type": "code",
   "execution_count": null,
   "metadata": {},
   "outputs": [],
   "source": [
    "source /home/your_username/EDXCourse/bin/activate"
   ]
  },
  {
   "cell_type": "markdown",
   "metadata": {},
   "source": [
    "<blockquote><i/><b>Resultado</b><br><img src=\"https://i.imgur.com/ZvFCEY5.png\" align=\"left\"/><br><br><br><br>Se puede verificar que el entorno de trabajo se encuentra activo por su ubicación antes de la ruta de trabajo <kbd>EDXCourse</kbd> </blockquote>"
   ]
  },
  {
   "cell_type": "markdown",
   "metadata": {},
   "source": [
    "---"
   ]
  },
  {
   "cell_type": "markdown",
   "metadata": {},
   "source": [
    "<h2> 2. Clonación Repositorio</h2>"
   ]
  },
  {
   "cell_type": "markdown",
   "metadata": {},
   "source": [
    "---"
   ]
  },
  {
   "cell_type": "markdown",
   "metadata": {},
   "source": [
    "<iframe src=\"https://github.com/CarlosCastillo10/Open-Campus-Course-HTML\" style=\"border:none;\"></iframe>"
   ]
  },
  {
   "cell_type": "markdown",
   "metadata": {},
   "source": [
    "<img src=\"https://www.providencecatholic.org/wp-content/uploads/windowslogo-580x358.jpg\" width=\"100\" height=\"50\" align=\"left\"/>"
   ]
  },
  {
   "cell_type": "markdown",
   "metadata": {},
   "source": [
    "<h3><i> Sistema Operativo Windows</h3>"
   ]
  },
  {
   "cell_type": "markdown",
   "metadata": {},
   "source": [
    "<blockquote><i/>Pendiente</blockquote> "
   ]
  },
  {
   "cell_type": "markdown",
   "metadata": {},
   "source": [
    "<img src=\"https://imageog.flaticon.com/icons/png/512/888/888879.png?size=1200x630f&pad=10,10,10,10&ext=png&bg=FFFFFFFF\" width=\"100\" height=\"50\" align=\"left\"/>"
   ]
  },
  {
   "cell_type": "markdown",
   "metadata": {},
   "source": [
    "<h3><i> Sistema Operativo Ubuntu</h3>"
   ]
  },
  {
   "cell_type": "markdown",
   "metadata": {},
   "source": [
    "<blockquote><i/><b>Acceso a nuestro entorno virtual</b><br><img src=\"https://i.imgur.com/ZvFCEY5.png\" align=\"left\"/><br><br><br><br><kbd>Entorno EDXCourse</kbd> </blockquote>"
   ]
  },
  {
   "cell_type": "markdown",
   "metadata": {},
   "source": [
    "<div style=\"text-align: justify\"> <code>01.</code> Nos ubicaremos en una directorio en la que podamos realizar la clonación del repositorio</div>"
   ]
  },
  {
   "cell_type": "markdown",
   "metadata": {},
   "source": [
    "<blockquote><div style=\"text-align: justify\"><i><b>Nota: </b>Se recomienda el uso del directorio, <kbd>/home</kbd>, pero en caso de contar con otro directorio remplazarlo</blockquote>"
   ]
  },
  {
   "cell_type": "code",
   "execution_count": null,
   "metadata": {},
   "outputs": [],
   "source": [
    "cd /home & git clone \"https://github.com/CarlosCastillo10/Open-Campus-Course-HTML.git\""
   ]
  },
  {
   "cell_type": "markdown",
   "metadata": {},
   "source": [
    "<blockquote><i/><b>Resultado</b><br><img src=\"https://i.imgur.com/JOB6a1k.png\" align=\"left\"/></blockquote>"
   ]
  },
  {
   "cell_type": "markdown",
   "metadata": {},
   "source": [
    "<blockquote><i/>Pendiente</blockquote> "
   ]
  },
  {
   "cell_type": "markdown",
   "metadata": {},
   "source": [
    "---"
   ]
  }
 ],
 "metadata": {
  "kernelspec": {
   "display_name": "Python 3",
   "language": "python",
   "name": "python3"
  },
  "language_info": {
   "codemirror_mode": {
    "name": "ipython",
    "version": 3
   },
   "file_extension": ".py",
   "mimetype": "text/x-python",
   "name": "python",
   "nbconvert_exporter": "python",
   "pygments_lexer": "ipython3",
   "version": "3.8.2"
  }
 },
 "nbformat": 4,
 "nbformat_minor": 4
}
