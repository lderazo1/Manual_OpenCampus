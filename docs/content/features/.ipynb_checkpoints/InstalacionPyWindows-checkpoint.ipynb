{
 "cells": [
  {
   "cell_type": "markdown",
   "metadata": {},
   "source": [
    "<img src=\"https://open.edx.org/wp-content/uploads/2019/01/open-edx-logo-with-reg.png\" width=\"270\" height=\"100\" align=\"left\"/>"
   ]
  },
  {
   "cell_type": "markdown",
   "metadata": {},
   "source": [
    "<img src=\"https://www.providencecatholic.org/wp-content/uploads/windowslogo-580x358.jpg\" width=\"100\" height=\"50\" align=\"right\"/>"
   ]
  },
  {
   "cell_type": "markdown",
   "metadata": {},
   "source": [
    "---"
   ]
  },
  {
   "cell_type": "markdown",
   "metadata": {},
   "source": [
    "<h1 align=\"center\">Instalación Python</h1> <br>"
   ]
  },
  {
   "cell_type": "markdown",
   "metadata": {},
   "source": [
    "<blockquote><i/><b>Importante: </b>El archivo de instalación de Pyhton incluye su gestor de paquetes PIP, por lo cual no es necesario complementar su instalación</blockquote> "
   ]
  },
  {
   "cell_type": "markdown",
   "metadata": {},
   "source": [
    "---"
   ]
  },
  {
   "cell_type": "markdown",
   "metadata": {},
   "source": [
    "<h2>1. Descarga instalador</h2>"
   ]
  },
  {
   "cell_type": "markdown",
   "metadata": {},
   "source": [
    "<div style=\"text-align: justify\">La instalación resulta sencilla en este Sistema Operativo, puesto que contamos con un instalador completo y oficial, a continuación detallamos el proceso de instalación</div>"
   ]
  },
  {
   "cell_type": "markdown",
   "metadata": {},
   "source": [
    "<h4><i> Versión 3.8: </h4>"
   ]
  },
  {
   "cell_type": "markdown",
   "metadata": {},
   "source": [
    "<div style=\"text-align: justify\"> <code>01.</code> Acceder a la página oficial de Python y seleccionamos en la versión actual de Python, en este caso 3.8</div>"
   ]
  },
  {
   "cell_type": "markdown",
   "metadata": {},
   "source": [
    "<a href=\"https://www.python.org/downloads/\"> Sitio de descargas de Python</a>"
   ]
  },
  {
   "cell_type": "markdown",
   "metadata": {},
   "source": [
    "<blockquote><i/>Resultado<br><img src=\"https://i.imgur.com/oVJR28I.png\" align=\"left\"/></blockquote>"
   ]
  },
  {
   "cell_type": "markdown",
   "metadata": {},
   "source": [
    "<div style=\"text-align: justify\"> <code>01.</code> Abrimos el archivo descargado y se ejecutará una ventana como la que se muestra a continuación, tomar en cuenta que la casilla PATH correspondientes a variables locales se encuentre marcada</div>"
   ]
  },
  {
   "cell_type": "markdown",
   "metadata": {},
   "source": [
    "<blockquote><i/>Resultado<br><img src=\"https://i.imgur.com/AyI3q36.png\" align=\"left\"/></blockquote>"
   ]
  },
  {
   "cell_type": "markdown",
   "metadata": {},
   "source": [
    "---"
   ]
  },
  {
   "cell_type": "markdown",
   "metadata": {},
   "source": [
    "<h2> 2. Verificación Instalación</h2>"
   ]
  },
  {
   "cell_type": "markdown",
   "metadata": {},
   "source": [
    "<blockquote><i/>El acceso a la consola de comandos de Windows se lo puede realizar de varias formas, una de aquellas es acceder desde el proceso ejecutar, para invocarlo pulsamos los botones: <kbd>Windows + R </kbd><br><img src=\"https://i.imgur.com/v22dnMN.png\" align=\"left\"/></blockquote>"
   ]
  },
  {
   "cell_type": "markdown",
   "metadata": {},
   "source": [
    "<blockquote><i/>Digitamos la palabra: <kbd> cmd </kbd> mediante la cual podemos acceder a la consola de comandos de Windows como lo muestra la siguiente imagen<br><img src=\"https://i.imgur.com/2u9pjwp.png\" align=\"left\"/></blockquote>"
   ]
  },
  {
   "cell_type": "markdown",
   "metadata": {},
   "source": [
    "<div style=\"text-align: justify\"> Es de suma importancia realizar una verificación en lo que respecta a la versión actual de Python con la que contamos, para lo cual hacemos uso de la siguiente sentencia</div>"
   ]
  },
  {
   "cell_type": "code",
   "execution_count": null,
   "metadata": {},
   "outputs": [],
   "source": [
    "python -V"
   ]
  },
  {
   "cell_type": "markdown",
   "metadata": {},
   "source": [
    "<blockquote><i/>Resultado<br><img src=\"https://i.imgur.com/bcol03R.png\" align=\"left\"/></blockquote>"
   ]
  },
  {
   "cell_type": "markdown",
   "metadata": {},
   "source": [
    "<h4><i> Video Explicativo / Referencial </h4>"
   ]
  },
  {
   "cell_type": "markdown",
   "metadata": {},
   "source": [
    "<iframe width=\"560\" height=\"315\" src=\"https://www.youtube.com/embed/bnhQBUEpWlg\" frameborder=\"0\" allow=\"accelerometer; autoplay; encrypted-media; gyroscope; picture-in-picture\" allowfullscreen></iframe>"
   ]
  },
  {
   "cell_type": "markdown",
   "metadata": {},
   "source": [
    "---"
   ]
  }
 ],
 "metadata": {
  "kernelspec": {
   "display_name": "Python 3",
   "language": "python",
   "name": "python3"
  },
  "language_info": {
   "codemirror_mode": {
    "name": "ipython",
    "version": 3
   },
   "file_extension": ".py",
   "mimetype": "text/x-python",
   "name": "python",
   "nbconvert_exporter": "python",
   "pygments_lexer": "ipython3",
   "version": "3.8.2"
  }
 },
 "nbformat": 4,
 "nbformat_minor": 4
}
